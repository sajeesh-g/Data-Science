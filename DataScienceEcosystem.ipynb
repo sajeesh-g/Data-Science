{
 "cells": [
  {
   "cell_type": "markdown",
   "id": "cd526887-fc24-4254-b4aa-04ae7a0a9478",
   "metadata": {},
   "source": [
    "# Data Science Tools and Ecosystem"
   ]
  },
  {
   "cell_type": "markdown",
   "id": "08cf74ba-4d78-455e-8586-c4c01b940c48",
   "metadata": {},
   "source": [
    "In this notebook, Data Science Tools and Ecosystem are summarized."
   ]
  },
  {
   "cell_type": "markdown",
   "id": "08a33b42-0548-4a39-9646-7455477542ff",
   "metadata": {},
   "source": [
    "Some of the popular languages that Data Scientists use are:"
   ]
  },
  {
   "cell_type": "markdown",
   "id": "053eba3e-51e8-42c8-8ab5-71f6a52bdd39",
   "metadata": {},
   "source": [
    "1. Python\n",
    "2. R\n",
    "3. Java"
   ]
  },
  {
   "cell_type": "markdown",
   "id": "d88cffa6-f9c6-4ec5-bc4f-e710c0268959",
   "metadata": {},
   "source": [
    "Some of the commonly used libraries used by Data Scientists include:\n",
    "1. Panda\n",
    "2. Numpy\n",
    "3. Seaborn"
   ]
  },
  {
   "cell_type": "markdown",
   "id": "2dec3a77-c88c-4c19-a311-fcf9d5a3b937",
   "metadata": {},
   "source": [
    "|Data Science Tools|\n",
    "|------------------|\n",
    "|1. Python|\n",
    "|2. Jupyter Notebooks |\n",
    "|3. Pandas |"
   ]
  },
  {
   "cell_type": "markdown",
   "id": "c1b9eef6-1f0a-43f8-9e9f-9448114fbf59",
   "metadata": {},
   "source": [
    "### Below are a few examples of evaluating arithmetic expressions in Python"
   ]
  },
  {
   "cell_type": "code",
   "execution_count": 3,
   "id": "41c539f3-2a4e-4f71-a44c-0ba7a93c4827",
   "metadata": {},
   "outputs": [
    {
     "data": {
      "text/plain": [
       "17"
      ]
     },
     "execution_count": 3,
     "metadata": {},
     "output_type": "execute_result"
    }
   ],
   "source": [
    "(3*4)+5"
   ]
  },
  {
   "cell_type": "markdown",
   "id": "edef7bc6-4724-4df8-80d4-7b81741e090b",
   "metadata": {},
   "source": [
    "This will convert 200 minutes to hours by diving by 60"
   ]
  },
  {
   "cell_type": "code",
   "execution_count": 6,
   "id": "ab9b3b23-3a0c-4beb-bb9a-09966836034f",
   "metadata": {},
   "outputs": [
    {
     "data": {
      "text/plain": [
       "3.3333333333333335"
      ]
     },
     "execution_count": 6,
     "metadata": {},
     "output_type": "execute_result"
    }
   ],
   "source": [
    "200/60"
   ]
  },
  {
   "cell_type": "code",
   "execution_count": 4,
   "id": "2f1038c8-0ebe-4a24-8787-973004911d77",
   "metadata": {},
   "outputs": [
    {
     "data": {
      "text/plain": [
       "0.198"
      ]
     },
     "execution_count": 4,
     "metadata": {},
     "output_type": "execute_result"
    }
   ],
   "source": [
    ".33/100*60"
   ]
  },
  {
   "cell_type": "markdown",
   "id": "c122630c-24f3-4b54-9365-fcbe271cbc63",
   "metadata": {},
   "source": [
    "3 hours 20 Minutes"
   ]
  },
  {
   "cell_type": "markdown",
   "id": "5506d487-47d4-48db-98ec-76ca57a35bda",
   "metadata": {},
   "source": [
    "__Objectives:__"
   ]
  },
  {
   "cell_type": "markdown",
   "id": "313a7f41-cdd9-404b-ac1c-6d198d4f78e7",
   "metadata": {},
   "source": [
    "* List of Popular Languages used by Data Scientists\n",
    "* List of Tools used by Data Scientists\n",
    "* List of Popular Libraries used by Data Scientists"
   ]
  },
  {
   "cell_type": "markdown",
   "id": "b8fa75ff-8c42-43cd-8d0a-3a9d3e2d7e17",
   "metadata": {},
   "source": [
    "## Author"
   ]
  },
  {
   "cell_type": "markdown",
   "id": "9d90ba81-1b19-439b-8a29-267ff76b016b",
   "metadata": {},
   "source": [
    "Sajeesh Gopalakrishnan"
   ]
  },
  {
   "cell_type": "code",
   "execution_count": null,
   "id": "f2667190-0bf0-47b6-8e79-088e7e006ab2",
   "metadata": {},
   "outputs": [],
   "source": []
  }
 ],
 "metadata": {
  "kernelspec": {
   "display_name": "Python 3 (ipykernel)",
   "language": "python",
   "name": "python3"
  },
  "language_info": {
   "codemirror_mode": {
    "name": "ipython",
    "version": 3
   },
   "file_extension": ".py",
   "mimetype": "text/x-python",
   "name": "python",
   "nbconvert_exporter": "python",
   "pygments_lexer": "ipython3",
   "version": "3.13.3"
  }
 },
 "nbformat": 4,
 "nbformat_minor": 5
}
